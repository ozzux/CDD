{
  "cells": [
    {
      "cell_type": "code",
      "execution_count": null,
      "metadata": {
        "colab": {
          "base_uri": "https://localhost:8080/"
        },
        "id": "0IWIEKWRmdDL",
        "outputId": "4363453c-5569-4085-fee8-3a058f87e7c6"
      },
      "outputs": [],
      "source": [
        "!git clone https://github.com/ozzux/DICA.git"
      ]
    },
    {
      "cell_type": "code",
      "execution_count": null,
      "metadata": {
        "colab": {
          "base_uri": "https://localhost:8080/"
        },
        "id": "TTHsNbB9mqWz",
        "outputId": "0976befa-0791-46e8-90b3-7f5f66b129fa"
      },
      "outputs": [],
      "source": [
        "!pip install ultralytics"
      ]
    },
    {
      "cell_type": "code",
      "execution_count": null,
      "metadata": {
        "id": "rhF6t3RqnG9R"
      },
      "outputs": [],
      "source": [
        "from ultralytics import YOLO"
      ]
    },
    {
      "cell_type": "code",
      "execution_count": null,
      "metadata": {
        "id": "2WI-tGZqnfoF"
      },
      "outputs": [],
      "source": [
        "model = YOLO(\"yolov8x.yaml\")"
      ]
    },
    {
      "cell_type": "code",
      "execution_count": null,
      "metadata": {
        "colab": {
          "base_uri": "https://localhost:8080/"
        },
        "id": "ZDbUHQV_oRk8",
        "outputId": "b648c483-bfe7-4640-fd2f-da86cc93ee9f"
      },
      "outputs": [],
      "source": [
        "results = model.train(data=\"/content/DICA/data.yaml\",epochs=300)"
      ]
    },
    {
      "cell_type": "code",
      "execution_count": null,
      "metadata": {
        "id": "ruWzOMBhzr8N"
      },
      "outputs": [],
      "source": [
        "import locale\n",
        "locale.getpreferredencoding = lambda: \"UTF-8\""
      ]
    },
    {
      "cell_type": "code",
      "execution_count": null,
      "metadata": {
        "colab": {
          "base_uri": "https://localhost:8080/"
        },
        "id": "OGNSyP--oYQT",
        "outputId": "800b667e-7eed-4555-bd23-493620b791e0"
      },
      "outputs": [],
      "source": [
        "!zip -r /content/runs.zip /content/runs"
      ]
    },
    {
      "cell_type": "code",
      "execution_count": null,
      "metadata": {
        "id": "PKXwKwpI0XZx"
      },
      "outputs": [],
      "source": []
    }
  ],
  "metadata": {
    "accelerator": "GPU",
    "colab": {
      "gpuType": "T4",
      "provenance": []
    },
    "kernelspec": {
      "display_name": "Python 3",
      "name": "python3"
    },
    "language_info": {
      "name": "python"
    }
  },
  "nbformat": 4,
  "nbformat_minor": 0
}
