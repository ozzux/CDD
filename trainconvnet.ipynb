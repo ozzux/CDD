{
  "cells": [
    {
      "cell_type": "code",
      "execution_count": 2,
      "metadata": {
        "id": "Txz2SCBX4fg5"
      },
      "outputs": [],
      "source": [
        "import numpy as np\n",
        "import cv2\n",
        "import PIL.Image as Image\n",
        "import os\n",
        "import matplotlib.pyplot as plt\n",
        "import tensorflow as tf\n",
        "from tensorflow import keras\n",
        "from tensorflow.keras import layers\n",
        "from tensorflow.keras.models import Sequential\n",
        "import tensorflow_hub as hub"
      ]
    },
    {
      "cell_type": "code",
      "execution_count": 3,
      "metadata": {
        "colab": {
          "base_uri": "https://localhost:8080/"
        },
        "id": "Ne_VzNdT-2Cy",
        "outputId": "9d20d99e-bb08-4622-d2e3-0b4773705d1c"
      },
      "outputs": [
        {
          "name": "stdout",
          "output_type": "stream",
          "text": [
            "Cloning into 'DICA'...\n",
            "remote: Enumerating objects: 34551, done.\u001b[K\n",
            "remote: Counting objects: 100% (11275/11275), done.\u001b[K\n",
            "remote: Compressing objects: 100% (10145/10145), done.\u001b[K\n",
            "remote: Total 34551 (delta 160), reused 11267 (delta 152), pack-reused 23276\u001b[K\n",
            "Receiving objects: 100% (34551/34551), 1.08 GiB | 14.68 MiB/s, done.\n",
            "Resolving deltas: 100% (207/207), done.\n"
          ]
        }
      ],
      "source": [
        "!git clone https://github.com/ozzux/DICA"
      ]
    },
    {
      "cell_type": "code",
      "execution_count": 41,
      "metadata": {
        "id": "anWONzER-7Wg"
      },
      "outputs": [],
      "source": [
        "data = []\n",
        "\n",
        "ADEM = os.listdir('/content/DICA/predicted_masks/ADEM')\n",
        "MS = os.listdir('/content/DICA/predicted_masks/MS')\n",
        "\n",
        "\n",
        "for img in MS:\n",
        "  image = cv2.imread('/content/DICA/predicted_masks/MS/'+img)\n",
        "  data.append([image, 0])\n",
        "\n",
        "for img in ADEM:\n",
        "  image = cv2.imread('/content/DICA/predicted_masks/ADEM/'+img)\n",
        "  data.append([image, 1])\n",
        "\n",
        "import random\n",
        "random.shuffle(data)"
      ]
    },
    {
      "cell_type": "code",
      "execution_count": 42,
      "metadata": {
        "id": "v08GptJiEFoO"
      },
      "outputs": [],
      "source": [
        "x = []\n",
        "y = []\n",
        "\n",
        "for img, label in data:\n",
        "  x.append(img)\n",
        "  y.append(label)"
      ]
    },
    {
      "cell_type": "code",
      "execution_count": 43,
      "metadata": {
        "id": "B5HF1x_TEpMn"
      },
      "outputs": [],
      "source": [
        "x = np.array(x)\n",
        "y = np.array(y)"
      ]
    },
    {
      "cell_type": "code",
      "execution_count": 44,
      "metadata": {
        "id": "LzbAMtl4ExfC"
      },
      "outputs": [],
      "source": [
        "x = x/255"
      ]
    },
    {
      "cell_type": "code",
      "execution_count": 45,
      "metadata": {
        "id": "zGnK1O4zE4WE"
      },
      "outputs": [],
      "source": [
        "from sklearn.model_selection import train_test_split\n",
        "x_train, x_test, y_train, y_test = train_test_split(x, y, test_size=0.2)"
      ]
    },
    {
      "cell_type": "code",
      "execution_count": 46,
      "metadata": {
        "id": "zCDm8A6SFMNU"
      },
      "outputs": [],
      "source": [
        "import tensorflow_hub as hub\n",
        "\n",
        "model_url = \"https://www.kaggle.com/models/google/resnet-v2/tensorFlow2/50-feature-vector/2\"\n",
        "hub_layer = hub.KerasLayer(model_url, input_shape=(640, 576, 3),trainable=False)"
      ]
    },
    {
      "cell_type": "code",
      "execution_count": 47,
      "metadata": {
        "colab": {
          "base_uri": "https://localhost:8080/"
        },
        "id": "NGSsqCIzJTP-",
        "outputId": "546ec8a2-7650-48e1-ef06-25a25c8f1d96"
      },
      "outputs": [
        {
          "name": "stdout",
          "output_type": "stream",
          "text": [
            "Model: \"sequential_4\"\n",
            "_________________________________________________________________\n",
            " Layer (type)                Output Shape              Param #   \n",
            "=================================================================\n",
            " keras_layer_3 (KerasLayer)  (None, 2048)              23564800  \n",
            "                                                                 \n",
            " dense_4 (Dense)             (None, 1)                 2049      \n",
            "                                                                 \n",
            "=================================================================\n",
            "Total params: 23566849 (89.90 MB)\n",
            "Trainable params: 2049 (8.00 KB)\n",
            "Non-trainable params: 23564800 (89.89 MB)\n",
            "_________________________________________________________________\n"
          ]
        }
      ],
      "source": [
        "model = tf.keras.Sequential()\n",
        "model.add(hub_layer)\n",
        "model.add(tf.keras.layers.Dense(1, activation='sigmoid'))\n",
        "\n",
        "model.summary()"
      ]
    },
    {
      "cell_type": "code",
      "execution_count": 48,
      "metadata": {
        "id": "MT_wYcLnLok8"
      },
      "outputs": [],
      "source": [
        "model.compile(optimizer=\"adam\", loss=tf.losses.binary_crossentropy, metrics=[\"accuracy\"])"
      ]
    },
    {
      "cell_type": "code",
      "execution_count": 49,
      "metadata": {
        "colab": {
          "base_uri": "https://localhost:8080/"
        },
        "id": "NEx_9aQDLqZu",
        "outputId": "a4b0e6ef-7d41-4f7e-9794-1621d884615e"
      },
      "outputs": [
        {
          "name": "stdout",
          "output_type": "stream",
          "text": [
            "Epoch 1/20\n",
            "1/1 [==============================] - 5s 5s/step - loss: 0.7503 - accuracy: 0.3548\n",
            "Epoch 2/20\n",
            "1/1 [==============================] - 1s 529ms/step - loss: 0.7069 - accuracy: 0.4839\n",
            "Epoch 3/20\n",
            "1/1 [==============================] - 1s 538ms/step - loss: 0.6882 - accuracy: 0.6774\n",
            "Epoch 4/20\n",
            "1/1 [==============================] - 1s 541ms/step - loss: 0.6799 - accuracy: 0.6129\n",
            "Epoch 5/20\n",
            "1/1 [==============================] - 1s 542ms/step - loss: 0.6713 - accuracy: 0.6129\n",
            "Epoch 6/20\n",
            "1/1 [==============================] - 1s 537ms/step - loss: 0.6586 - accuracy: 0.6452\n",
            "Epoch 7/20\n",
            "1/1 [==============================] - 1s 541ms/step - loss: 0.6428 - accuracy: 0.6452\n",
            "Epoch 8/20\n",
            "1/1 [==============================] - 1s 540ms/step - loss: 0.6263 - accuracy: 0.6129\n",
            "Epoch 9/20\n",
            "1/1 [==============================] - 1s 540ms/step - loss: 0.6111 - accuracy: 0.6774\n",
            "Epoch 10/20\n",
            "1/1 [==============================] - 1s 539ms/step - loss: 0.5982 - accuracy: 0.7742\n",
            "Epoch 11/20\n",
            "1/1 [==============================] - 1s 542ms/step - loss: 0.5874 - accuracy: 0.7742\n",
            "Epoch 12/20\n",
            "1/1 [==============================] - 1s 547ms/step - loss: 0.5776 - accuracy: 0.8065\n",
            "Epoch 13/20\n",
            "1/1 [==============================] - 1s 542ms/step - loss: 0.5678 - accuracy: 0.8065\n",
            "Epoch 14/20\n",
            "1/1 [==============================] - 1s 558ms/step - loss: 0.5573 - accuracy: 0.8065\n",
            "Epoch 15/20\n",
            "1/1 [==============================] - 1s 546ms/step - loss: 0.5462 - accuracy: 0.8065\n",
            "Epoch 16/20\n",
            "1/1 [==============================] - 1s 543ms/step - loss: 0.5351 - accuracy: 0.8065\n",
            "Epoch 17/20\n",
            "1/1 [==============================] - 1s 547ms/step - loss: 0.5246 - accuracy: 0.8065\n",
            "Epoch 18/20\n",
            "1/1 [==============================] - 1s 550ms/step - loss: 0.5151 - accuracy: 0.8065\n",
            "Epoch 19/20\n",
            "1/1 [==============================] - 1s 541ms/step - loss: 0.5066 - accuracy: 0.8065\n",
            "Epoch 20/20\n",
            "1/1 [==============================] - 1s 545ms/step - loss: 0.4987 - accuracy: 0.8387\n"
          ]
        },
        {
          "data": {
            "text/plain": [
              "<keras.src.callbacks.History at 0x7904822037c0>"
            ]
          },
          "execution_count": 49,
          "metadata": {},
          "output_type": "execute_result"
        }
      ],
      "source": [
        "model.fit(x_train, y_train, epochs=20)"
      ]
    },
    {
      "cell_type": "code",
      "execution_count": 56,
      "metadata": {
        "colab": {
          "base_uri": "https://localhost:8080/",
          "height": 657
        },
        "id": "OIm8oIPXNlDN",
        "outputId": "0913ef32-d642-49af-b6f8-ad98ecde9206"
      },
      "outputs": [
        {
          "data": {
            "image/png": "[encoded data removed]",
            "text/plain": [
              "<PIL.Image.Image image mode=RGB size=576x640>"
            ]
          },
          "metadata": {},
          "output_type": "display_data"
        }
      ],
      "source": [
        "from google.colab.patches import cv2_imshow\n",
        "cv2_imshow(x_test[0]*255)"
      ]
    },
    {
      "cell_type": "code",
      "execution_count": 51,
      "metadata": {
        "colab": {
          "base_uri": "https://localhost:8080/"
        },
        "id": "nxjceF0oLw-m",
        "outputId": "a39168e7-6a2c-4ddf-c649-60e47fa7b1d3"
      },
      "outputs": [
        {
          "name": "stdout",
          "output_type": "stream",
          "text": [
            "1/1 [==============================] - 0s 230ms/step - loss: 0.4509 - accuracy: 0.8750\n"
          ]
        },
        {
          "data": {
            "text/plain": [
              "[0.45094096660614014, 0.875]"
            ]
          },
          "execution_count": 51,
          "metadata": {},
          "output_type": "execute_result"
        }
      ],
      "source": [
        "model.evaluate(x_test, y_test)"
      ]
    },
    {
      "cell_type": "code",
      "execution_count": 57,
      "metadata": {
        "colab": {
          "base_uri": "https://localhost:8080/"
        },
        "id": "RXkj0f5tN6q5",
        "outputId": "e4425f5e-f195-4a5d-c630-f24d3c34c2fa"
      },
      "outputs": [
        {
          "name": "stderr",
          "output_type": "stream",
          "text": [
            "/usr/local/lib/python3.10/dist-packages/keras/src/engine/training.py:3103: UserWarning: You are saving your model as an HDF5 file via `model.save()`. This file format is considered legacy. We recommend using instead the native Keras format, e.g. `model.save('my_model.keras')`.\n",
            "  saving_api.save_model(\n"
          ]
        }
      ],
      "source": [
        "model.save('model.keras')"
      ]
    }
  ],
  "metadata": {
    "accelerator": "GPU",
    "colab": {
      "gpuType": "T4",
      "provenance": []
    },
    "kernelspec": {
      "display_name": "Python 3",
      "name": "python3"
    },
    "language_info": {
      "name": "python"
    }
  },
  "nbformat": 4,
  "nbformat_minor": 0
}
