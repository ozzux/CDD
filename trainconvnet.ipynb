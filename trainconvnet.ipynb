{
  "cells": [
    {
      "cell_type": "code",
      "execution_count": 1,
      "metadata": {
        "id": "Txz2SCBX4fg5"
      },
      "outputs": [],
      "source": [
        "import numpy as np\n",
        "import cv2\n",
        "import PIL.Image as Image\n",
        "import os\n",
        "import matplotlib.pyplot as plt\n",
        "import tensorflow as tf\n",
        "from tensorflow import keras\n",
        "from tensorflow.keras import layers\n",
        "from tensorflow.keras.models import Sequential\n",
        "import tensorflow_hub as hub"
      ]
    },
    {
      "cell_type": "code",
      "execution_count": 2,
      "metadata": {
        "colab": {
          "base_uri": "https://localhost:8080/"
        },
        "id": "Ne_VzNdT-2Cy",
        "outputId": "633f4c3f-c58d-463d-cb14-fa9b0e78372c"
      },
      "outputs": [
        {
          "output_type": "stream",
          "name": "stdout",
          "text": [
            "Cloning into 'DICA'...\n",
            "remote: Enumerating objects: 34564, done.\u001b[K\n",
            "remote: Counting objects: 100% (11288/11288), done.\u001b[K\n",
            "remote: Compressing objects: 100% (10157/10157), done.\u001b[K\n",
            "remote: Total 34564 (delta 163), reused 11278 (delta 153), pack-reused 23276\u001b[K\n",
            "Receiving objects: 100% (34564/34564), 1.16 GiB | 40.52 MiB/s, done.\n",
            "Resolving deltas: 100% (210/210), done.\n"
          ]
        }
      ],
      "source": [
        "!git clone https://github.com/ozzux/DICA"
      ]
    },
    {
      "cell_type": "code",
      "execution_count": 38,
      "metadata": {
        "id": "anWONzER-7Wg"
      },
      "outputs": [],
      "source": [
        "data = []\n",
        "\n",
        "ADEM = os.listdir('/content/DICA/predicted_masks/ADEM')\n",
        "MS = os.listdir('/content/DICA/predicted_masks/MS')\n",
        "\n",
        "\n",
        "for img in MS:\n",
        "  image = cv2.imread('/content/DICA/predicted_masks/MS/'+img)\n",
        "  data.append([image, 0])\n",
        "\n",
        "for img in ADEM:\n",
        "  image = cv2.imread('/content/DICA/predicted_masks/ADEM/'+img)\n",
        "  data.append([image, 1])\n"
      ]
    },
    {
      "cell_type": "code",
      "execution_count": 51,
      "metadata": {
        "id": "v08GptJiEFoO"
      },
      "outputs": [],
      "source": [
        "import random\n",
        "random.shuffle(data)\n",
        "x = []\n",
        "y = []\n",
        "\n",
        "for img, label in data:\n",
        "  x.append(img)\n",
        "  y.append(label)"
      ]
    },
    {
      "cell_type": "code",
      "execution_count": 52,
      "metadata": {
        "id": "B5HF1x_TEpMn"
      },
      "outputs": [],
      "source": [
        "x = np.array(x)\n",
        "y = np.array(y)"
      ]
    },
    {
      "cell_type": "code",
      "execution_count": 53,
      "metadata": {
        "id": "LzbAMtl4ExfC"
      },
      "outputs": [],
      "source": [
        "x = x/255"
      ]
    },
    {
      "cell_type": "code",
      "execution_count": 54,
      "metadata": {
        "id": "zGnK1O4zE4WE"
      },
      "outputs": [],
      "source": [
        "from sklearn.model_selection import train_test_split\n",
        "x_train, x_test, y_train, y_test = train_test_split(x, y, test_size=0.2)"
      ]
    },
    {
      "cell_type": "code",
      "execution_count": 55,
      "metadata": {
        "id": "zCDm8A6SFMNU"
      },
      "outputs": [],
      "source": [
        "import tensorflow_hub as hub\n",
        "\n",
        "model_url = \"https://www.kaggle.com/models/google/resnet-v2/tensorFlow2/50-feature-vector/2\"\n",
        "hub_layer = hub.KerasLayer(model_url, input_shape=(640, 576, 3),trainable=False)"
      ]
    },
    {
      "cell_type": "code",
      "execution_count": 56,
      "metadata": {
        "colab": {
          "base_uri": "https://localhost:8080/"
        },
        "id": "NGSsqCIzJTP-",
        "outputId": "8a335931-ef46-42e0-be54-99cd541dc86a"
      },
      "outputs": [
        {
          "output_type": "stream",
          "name": "stdout",
          "text": [
            "Model: \"sequential_4\"\n",
            "_________________________________________________________________\n",
            " Layer (type)                Output Shape              Param #   \n",
            "=================================================================\n",
            " keras_layer_4 (KerasLayer)  (None, 2048)              23564800  \n",
            "                                                                 \n",
            " dense_4 (Dense)             (None, 1)                 2049      \n",
            "                                                                 \n",
            "=================================================================\n",
            "Total params: 23566849 (89.90 MB)\n",
            "Trainable params: 2049 (8.00 KB)\n",
            "Non-trainable params: 23564800 (89.89 MB)\n",
            "_________________________________________________________________\n"
          ]
        }
      ],
      "source": [
        "model = tf.keras.Sequential()\n",
        "model.add(hub_layer)\n",
        "model.add(tf.keras.layers.Dense(1, activation='sigmoid'))\n",
        "\n",
        "model.summary()"
      ]
    },
    {
      "cell_type": "code",
      "execution_count": 57,
      "metadata": {
        "id": "MT_wYcLnLok8"
      },
      "outputs": [],
      "source": [
        "model.compile(optimizer=\"adam\", loss=tf.losses.binary_crossentropy, metrics=[\"accuracy\"])"
      ]
    },
    {
      "cell_type": "code",
      "execution_count": 60,
      "metadata": {
        "colab": {
          "base_uri": "https://localhost:8080/"
        },
        "id": "NEx_9aQDLqZu",
        "outputId": "b9391fda-ddfa-4eb1-b2cd-9a59db1f7102"
      },
      "outputs": [
        {
          "output_type": "stream",
          "name": "stdout",
          "text": [
            "Epoch 1/40\n",
            "1/1 [==============================] - 1s 688ms/step - loss: 0.3447 - accuracy: 0.8710\n",
            "Epoch 2/40\n",
            "1/1 [==============================] - 1s 506ms/step - loss: 0.3406 - accuracy: 0.8710\n",
            "Epoch 3/40\n",
            "1/1 [==============================] - 1s 515ms/step - loss: 0.3366 - accuracy: 0.9032\n",
            "Epoch 4/40\n",
            "1/1 [==============================] - 1s 517ms/step - loss: 0.3327 - accuracy: 0.9032\n",
            "Epoch 5/40\n",
            "1/1 [==============================] - 1s 514ms/step - loss: 0.3289 - accuracy: 0.9032\n",
            "Epoch 6/40\n",
            "1/1 [==============================] - 1s 521ms/step - loss: 0.3252 - accuracy: 0.9032\n",
            "Epoch 7/40\n",
            "1/1 [==============================] - 1s 523ms/step - loss: 0.3215 - accuracy: 0.9032\n",
            "Epoch 8/40\n",
            "1/1 [==============================] - 1s 520ms/step - loss: 0.3180 - accuracy: 0.9032\n",
            "Epoch 9/40\n",
            "1/1 [==============================] - 1s 521ms/step - loss: 0.3145 - accuracy: 0.9032\n",
            "Epoch 10/40\n",
            "1/1 [==============================] - 1s 519ms/step - loss: 0.3110 - accuracy: 0.9032\n",
            "Epoch 11/40\n",
            "1/1 [==============================] - 1s 524ms/step - loss: 0.3077 - accuracy: 0.9032\n",
            "Epoch 12/40\n",
            "1/1 [==============================] - 1s 541ms/step - loss: 0.3044 - accuracy: 0.9032\n",
            "Epoch 13/40\n",
            "1/1 [==============================] - 1s 581ms/step - loss: 0.3011 - accuracy: 0.9032\n",
            "Epoch 14/40\n",
            "1/1 [==============================] - 1s 522ms/step - loss: 0.2980 - accuracy: 0.9032\n",
            "Epoch 15/40\n",
            "1/1 [==============================] - 1s 565ms/step - loss: 0.2949 - accuracy: 0.9032\n",
            "Epoch 16/40\n",
            "1/1 [==============================] - 1s 519ms/step - loss: 0.2918 - accuracy: 0.9032\n",
            "Epoch 17/40\n",
            "1/1 [==============================] - 1s 516ms/step - loss: 0.2888 - accuracy: 0.9032\n",
            "Epoch 18/40\n",
            "1/1 [==============================] - 1s 518ms/step - loss: 0.2859 - accuracy: 0.9032\n",
            "Epoch 19/40\n",
            "1/1 [==============================] - 1s 523ms/step - loss: 0.2830 - accuracy: 0.9032\n",
            "Epoch 20/40\n",
            "1/1 [==============================] - 1s 521ms/step - loss: 0.2801 - accuracy: 0.9032\n",
            "Epoch 21/40\n",
            "1/1 [==============================] - 1s 520ms/step - loss: 0.2773 - accuracy: 0.9032\n",
            "Epoch 22/40\n",
            "1/1 [==============================] - 1s 519ms/step - loss: 0.2746 - accuracy: 0.9032\n",
            "Epoch 23/40\n",
            "1/1 [==============================] - 1s 525ms/step - loss: 0.2719 - accuracy: 0.9032\n",
            "Epoch 24/40\n",
            "1/1 [==============================] - 1s 523ms/step - loss: 0.2692 - accuracy: 0.9032\n",
            "Epoch 25/40\n",
            "1/1 [==============================] - 1s 523ms/step - loss: 0.2666 - accuracy: 0.9032\n",
            "Epoch 26/40\n",
            "1/1 [==============================] - 1s 518ms/step - loss: 0.2641 - accuracy: 0.9032\n",
            "Epoch 27/40\n",
            "1/1 [==============================] - 1s 521ms/step - loss: 0.2616 - accuracy: 0.9032\n",
            "Epoch 28/40\n",
            "1/1 [==============================] - 1s 519ms/step - loss: 0.2591 - accuracy: 0.9032\n",
            "Epoch 29/40\n",
            "1/1 [==============================] - 1s 523ms/step - loss: 0.2566 - accuracy: 0.9032\n",
            "Epoch 30/40\n",
            "1/1 [==============================] - 1s 519ms/step - loss: 0.2542 - accuracy: 0.9355\n",
            "Epoch 31/40\n",
            "1/1 [==============================] - 1s 521ms/step - loss: 0.2519 - accuracy: 0.9355\n",
            "Epoch 32/40\n",
            "1/1 [==============================] - 1s 524ms/step - loss: 0.2495 - accuracy: 0.9355\n",
            "Epoch 33/40\n",
            "1/1 [==============================] - 1s 523ms/step - loss: 0.2472 - accuracy: 0.9355\n",
            "Epoch 34/40\n",
            "1/1 [==============================] - 1s 545ms/step - loss: 0.2450 - accuracy: 0.9355\n",
            "Epoch 35/40\n",
            "1/1 [==============================] - 1s 532ms/step - loss: 0.2428 - accuracy: 0.9355\n",
            "Epoch 36/40\n",
            "1/1 [==============================] - 1s 576ms/step - loss: 0.2406 - accuracy: 0.9355\n",
            "Epoch 37/40\n",
            "1/1 [==============================] - 1s 566ms/step - loss: 0.2384 - accuracy: 0.9355\n",
            "Epoch 38/40\n",
            "1/1 [==============================] - 1s 529ms/step - loss: 0.2363 - accuracy: 0.9355\n",
            "Epoch 39/40\n",
            "1/1 [==============================] - 1s 521ms/step - loss: 0.2342 - accuracy: 0.9355\n",
            "Epoch 40/40\n",
            "1/1 [==============================] - 1s 517ms/step - loss: 0.2321 - accuracy: 0.9355\n"
          ]
        },
        {
          "output_type": "execute_result",
          "data": {
            "text/plain": [
              "<keras.src.callbacks.History at 0x7bc583b86080>"
            ]
          },
          "metadata": {},
          "execution_count": 60
        }
      ],
      "source": [
        "model.fit(x_train, y_train, epochs=40)"
      ]
    },
    {
      "cell_type": "code",
      "execution_count": 47,
      "metadata": {
        "colab": {
          "base_uri": "https://localhost:8080/",
          "height": 657
        },
        "id": "OIm8oIPXNlDN",
        "outputId": "55885164-1e2e-4bc3-fa0c-95d561cc0a1a"
      },
      "outputs": [
        {
          "output_type": "display_data",
          "data": {
            "text/plain": [
              "<PIL.Image.Image image mode=RGB size=576x640>"
            ],
            "image/png": "[encoded data removed]"
          },
          "metadata": {}
        }
      ],
      "source": [
        "from google.colab.patches import cv2_imshow\n",
        "cv2_imshow(x_test[0]*255)"
      ]
    },
    {
      "cell_type": "code",
      "execution_count": 63,
      "metadata": {
        "colab": {
          "base_uri": "https://localhost:8080/"
        },
        "id": "nxjceF0oLw-m",
        "outputId": "727377c8-e08e-429d-d0fa-c4a3934d0464"
      },
      "outputs": [
        {
          "output_type": "stream",
          "name": "stdout",
          "text": [
            "1/1 [==============================] - 0s 246ms/step - loss: 0.4744 - accuracy: 0.8750\n"
          ]
        },
        {
          "output_type": "execute_result",
          "data": {
            "text/plain": [
              "[0.47435009479522705, 0.875]"
            ]
          },
          "metadata": {},
          "execution_count": 63
        }
      ],
      "source": [
        "model.evaluate(x_test, y_test)"
      ]
    },
    {
      "cell_type": "code",
      "execution_count": 67,
      "metadata": {
        "colab": {
          "base_uri": "https://localhost:8080/"
        },
        "id": "RXkj0f5tN6q5",
        "outputId": "48e0b525-d5c8-4053-954d-fd4d6c4302a5"
      },
      "outputs": [
        {
          "output_type": "stream",
          "name": "stderr",
          "text": [
            "/usr/local/lib/python3.10/dist-packages/keras/src/engine/training.py:3103: UserWarning: You are saving your model as an HDF5 file via `model.save()`. This file format is considered legacy. We recommend using instead the native Keras format, e.g. `model.save('my_model.keras')`.\n",
            "  saving_api.save_model(\n"
          ]
        }
      ],
      "source": [
        "model.save('model.h5')"
      ]
    }
  ],
  "metadata": {
    "accelerator": "GPU",
    "colab": {
      "gpuType": "T4",
      "provenance": []
    },
    "kernelspec": {
      "display_name": "Python 3",
      "name": "python3"
    },
    "language_info": {
      "name": "python"
    }
  },
  "nbformat": 4,
  "nbformat_minor": 0
}